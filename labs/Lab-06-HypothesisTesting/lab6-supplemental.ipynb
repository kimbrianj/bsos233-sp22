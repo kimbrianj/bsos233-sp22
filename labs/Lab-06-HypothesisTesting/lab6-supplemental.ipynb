{
 "cells": [
  {
   "cell_type": "code",
   "execution_count": 1,
   "metadata": {},
   "outputs": [],
   "source": [
    "import numpy as np\n",
    "from datascience import *\n",
    "\n",
    "\n",
    "# These lines do some fancy plotting magic.\n",
    "import matplotlib\n",
    "%matplotlib inline\n",
    "import matplotlib.pyplot as plots\n",
    "\n",
    "# This is if you want your plots to have the FiveThirtyEight style\n",
    "plots.style.use('fivethirtyeight')"
   ]
  },
  {
   "cell_type": "markdown",
   "metadata": {},
   "source": [
    "# Ghosts and Income\n",
    "\n",
    "Suppose we want to know whether there is any difference between believing in ghosts and income. We can use a hypothesis test to determine whether there is a real difference between the income of the two groups of people (people who believe in ghosts and people who do not believe in ghosts).\n",
    "\n",
    "Let's starting by stating the hypotheses. \n",
    "\n",
    "**Null hypothesis:** There is no difference in mean income between people who believe in ghosts and people who do not believe in ghosts. \n",
    "\n",
    "**Alternative hypothesis:** There is a difference in mean income between people who believe in ghosts and people who do not believe in ghosts. "
   ]
  },
  {
   "cell_type": "code",
   "execution_count": 2,
   "metadata": {},
   "outputs": [],
   "source": [
    "cah = Table.read_table('201709-CAH_PulseOfTheNation.csv')"
   ]
  },
  {
   "cell_type": "code",
   "execution_count": 3,
   "metadata": {},
   "outputs": [
    {
     "data": {
      "text/html": [
       "<table border=\"1\" class=\"dataframe\">\n",
       "    <thead>\n",
       "        <tr>\n",
       "            <th>Income</th> <th>Gender</th> <th>Age</th> <th>Age Range</th> <th>Political Affiliation</th> <th>Do you approve or disapprove of how Donald Trump is handling his job as president?</th> <th>What is your highest level of education? </th> <th>What is your race?</th> <th>What is your marital status?</th> <th>What would you say is the likelihood that your current job will be entirely performed by robots or computers within the next decade?</th> <th>Do you believe that climate change is real and caused by people, real but not caused by people, or not real at all?</th> <th>How many Transformers movies have you seen? </th> <th>Do you agree or disagree with the following statement: scientists are generally honest and are serving the public good. </th> <th>Do you agree or disagree with the following statement: vaccines are safe and protect children from disease.</th> <th>How many books, if any, have you read in the past year?</th> <th>Do you believe in ghosts?</th> <th>What percentage of the federal budget would you estimate is spent on scientific research?</th> <th>Is federal funding of scientific research too high, too low, or about right?</th> <th>True or false: the earth is always farther away from the sun in the winter than in the summer.</th> <th>If you had to choose: would you rather be smart and sad, or dumb and happy?</th> <th>Do you think it is acceptable or unacceptable to urinate in the shower?</th>\n",
       "        </tr>\n",
       "    </thead>\n",
       "    <tbody>\n",
       "        <tr>\n",
       "            <td>68000 </td> <td>Female</td> <td>56  </td> <td>55-64    </td> <td>Democrat             </td> <td>Strongly disapprove                                                               </td> <td>High school                              </td> <td>Black             </td> <td>Single                      </td> <td>Unlikely                                                                                                                            </td> <td>DK/REF                                                                                                             </td> <td>0                                           </td> <td>Somewhat Agree                                                                                                          </td> <td>Somewhat Disagree                                                                                          </td> <td>6                                                      </td> <td>No                       </td> <td>90                                                                                       </td> <td>Too High                                                                    </td> <td>FALSE                                                                                         </td> <td>Smart and Sad                                                              </td> <td>Unacceptable                                                           </td>\n",
       "        </tr>\n",
       "        <tr>\n",
       "            <td>46000 </td> <td>Male  </td> <td>63  </td> <td>55-64    </td> <td>Independent          </td> <td>Somewhat Approve                                                                  </td> <td>Some college                             </td> <td>White             </td> <td>Married                     </td> <td>Unlikely                                                                                                                            </td> <td>Real but not Caused by People                                                                                      </td> <td>0                                           </td> <td>Somewhat Agree                                                                                                          </td> <td>Strongly Agree                                                                                             </td> <td>0                                                      </td> <td>No                       </td> <td>20                                                                                       </td> <td>About Right                                                                 </td> <td>TRUE                                                                                          </td> <td>Dumb and happy                                                             </td> <td>Acceptable                                                             </td>\n",
       "        </tr>\n",
       "        <tr>\n",
       "            <td>51000 </td> <td>Male  </td> <td>48  </td> <td>45-54    </td> <td>Republican           </td> <td>Strongly Approve                                                                  </td> <td>High school                              </td> <td>White             </td> <td>Divorced                    </td> <td>Unlikely                                                                                                                            </td> <td>Not Real At All                                                                                                    </td> <td>0                                           </td> <td>Somewhat Disagree                                                                                                       </td> <td>Somewhat Disagree                                                                                          </td> <td>1                                                      </td> <td>No                       </td> <td>10                                                                                       </td> <td>About Right                                                                 </td> <td>FALSE                                                                                         </td> <td>Dumb and happy                                                             </td> <td>Unacceptable                                                           </td>\n",
       "        </tr>\n",
       "        <tr>\n",
       "            <td>54000 </td> <td>Female</td> <td>64  </td> <td>55-64    </td> <td>Democrat             </td> <td>Strongly disapprove                                                               </td> <td>Some college                             </td> <td>White             </td> <td>Married                     </td> <td>DK/REF                                                                                                                              </td> <td>Real and Caused by People                                                                                          </td> <td>0                                           </td> <td>Strongly Agree                                                                                                          </td> <td>Strongly Agree                                                                                             </td> <td>15                                                     </td> <td>No                       </td> <td>1                                                                                        </td> <td>Too Low                                                                     </td> <td>TRUE                                                                                          </td> <td>Smart and Sad                                                              </td> <td>Unacceptable                                                           </td>\n",
       "        </tr>\n",
       "        <tr>\n",
       "            <td>83000 </td> <td>Male  </td> <td>61  </td> <td>55-64    </td> <td>Independent          </td> <td>Somewhat Approve                                                                  </td> <td>College degree                           </td> <td>White             </td> <td>Divorced                    </td> <td>Unlikely                                                                                                                            </td> <td>Real but not Caused by People                                                                                      </td> <td>0                                           </td> <td>Strongly Agree                                                                                                          </td> <td>Strongly Agree                                                                                             </td> <td>0                                                      </td> <td>Yes                      </td> <td>10                                                                                       </td> <td>About Right                                                                 </td> <td>TRUE                                                                                          </td> <td>Dumb and happy                                                             </td> <td>Unacceptable                                                           </td>\n",
       "        </tr>\n",
       "    </tbody>\n",
       "</table>\n",
       "<p>... (305 rows omitted)</p>"
      ],
      "text/plain": [
       "<IPython.core.display.HTML object>"
      ]
     },
     "metadata": {},
     "output_type": "display_data"
    }
   ],
   "source": [
    "cah.show(5)"
   ]
  },
  {
   "cell_type": "markdown",
   "metadata": {},
   "source": [
    "First, we select the columns we are interested in, and change the column name for the ghosts question to make it easier to use."
   ]
  },
  {
   "cell_type": "code",
   "execution_count": 8,
   "metadata": {},
   "outputs": [],
   "source": [
    "ghost_income = cah.select('Income', 'Do you believe in ghosts?').relabeled('Do you believe in ghosts?', 'ghosts')"
   ]
  },
  {
   "cell_type": "code",
   "execution_count": 9,
   "metadata": {},
   "outputs": [
    {
     "data": {
      "text/html": [
       "<table border=\"1\" class=\"dataframe\">\n",
       "    <thead>\n",
       "        <tr>\n",
       "            <th>Income</th> <th>ghosts</th>\n",
       "        </tr>\n",
       "    </thead>\n",
       "    <tbody>\n",
       "        <tr>\n",
       "            <td>68000 </td> <td>No    </td>\n",
       "        </tr>\n",
       "        <tr>\n",
       "            <td>46000 </td> <td>No    </td>\n",
       "        </tr>\n",
       "        <tr>\n",
       "            <td>51000 </td> <td>No    </td>\n",
       "        </tr>\n",
       "        <tr>\n",
       "            <td>54000 </td> <td>No    </td>\n",
       "        </tr>\n",
       "        <tr>\n",
       "            <td>83000 </td> <td>Yes   </td>\n",
       "        </tr>\n",
       "    </tbody>\n",
       "</table>\n",
       "<p>... (305 rows omitted)</p>"
      ],
      "text/plain": [
       "<IPython.core.display.HTML object>"
      ]
     },
     "metadata": {},
     "output_type": "display_data"
    }
   ],
   "source": [
    "ghost_income.show(5)"
   ]
  },
  {
   "cell_type": "markdown",
   "metadata": {},
   "source": [
    "## Calculating a test statistic\n",
    "\n",
    "We want to find whether there is a difference between the mean incomes between the two groups. Let's calculate what the actual mean difference was. We can group by the ghosts question, then find the mean within each. "
   ]
  },
  {
   "cell_type": "code",
   "execution_count": 15,
   "metadata": {},
   "outputs": [
    {
     "data": {
      "text/html": [
       "<table border=\"1\" class=\"dataframe\">\n",
       "    <thead>\n",
       "        <tr>\n",
       "            <th>ghosts</th> <th>Income mean</th>\n",
       "        </tr>\n",
       "    </thead>\n",
       "    <tbody>\n",
       "        <tr>\n",
       "            <td>DK/REF</td> <td>175875     </td>\n",
       "        </tr>\n",
       "        <tr>\n",
       "            <td>No    </td> <td>92566.8    </td>\n",
       "        </tr>\n",
       "        <tr>\n",
       "            <td>Yes   </td> <td>97130.4    </td>\n",
       "        </tr>\n",
       "    </tbody>\n",
       "</table>"
      ],
      "text/plain": [
       "ghosts | Income mean\n",
       "DK/REF | 175875\n",
       "No     | 92566.8\n",
       "Yes    | 97130.4"
      ]
     },
     "execution_count": 15,
     "metadata": {},
     "output_type": "execute_result"
    }
   ],
   "source": [
    "mean_income_by_ghost = ghost_income.group('ghosts', collect = np.mean)\n",
    "mean_income_by_ghost"
   ]
  },
  {
   "cell_type": "markdown",
   "metadata": {},
   "source": [
    "The test statistic can be found by using the absolute difference between the two groups. Note that if we had wanted to know whether one group was greater than the other, we would not use absolute difference, but simply a difference. "
   ]
  },
  {
   "cell_type": "code",
   "execution_count": 18,
   "metadata": {},
   "outputs": [
    {
     "data": {
      "text/plain": [
       "4563.589862822599"
      ]
     },
     "execution_count": 18,
     "metadata": {},
     "output_type": "execute_result"
    }
   ],
   "source": [
    "abs(mean_income_by_ghost.column('Income mean').item(1) - mean_income_by_ghost.column('Income mean').item(2))"
   ]
  },
  {
   "cell_type": "markdown",
   "metadata": {},
   "source": [
    "This is what we actually observed. Let's put this inside a function. It should take in a table with the `Income` and `ghosts` columns and output the absolute difference in means between the two groups.  "
   ]
  },
  {
   "cell_type": "code",
   "execution_count": 35,
   "metadata": {},
   "outputs": [
    {
     "data": {
      "text/plain": [
       "4563.589862822599"
      ]
     },
     "execution_count": 35,
     "metadata": {},
     "output_type": "execute_result"
    }
   ],
   "source": [
    "def statistic(data_table):\n",
    "    '''\n",
    "    Calculates the test statistic. Finds the absolute difference in mean Income between ghost groups. \n",
    "    '''\n",
    "    mean_income_by_ghost = data_table.group('ghosts', collect = np.mean)\n",
    "    return abs(mean_income_by_ghost.column('Income mean').item(1) - mean_income_by_ghost.column('Income mean').item(2))\n",
    "observed_statistic = statistic(ghost_income)\n",
    "observed_statistic"
   ]
  },
  {
   "cell_type": "markdown",
   "metadata": {},
   "source": [
    "However, we need to find out what we would have expected to observe if our null hypothesis is true. To do this, we can use simulations. Let's try one simulation first. We need to shuffle the `ghosts` column to make sure it is unrelated to the `Income`, then calculate the difference in mean incomes. We put all of this into a table with `Income` the same as the original and `ghosts` shuffled. "
   ]
  },
  {
   "cell_type": "code",
   "execution_count": 28,
   "metadata": {},
   "outputs": [],
   "source": [
    "shuffled_ghosts = ghost_income.sample(ghost_income.num_rows, with_replacement = False).column('ghosts')\n",
    "simulated_ghost_income = Table().with_columns(\"Income\", ghost_income.column('Income'),\n",
    "                                              \"ghosts\", shuffled_ghosts)"
   ]
  },
  {
   "cell_type": "code",
   "execution_count": 29,
   "metadata": {},
   "outputs": [
    {
     "data": {
      "text/plain": [
       "10765.728900255752"
      ]
     },
     "execution_count": 29,
     "metadata": {},
     "output_type": "execute_result"
    }
   ],
   "source": [
    "statistic(simulated_ghost_income)"
   ]
  },
  {
   "cell_type": "markdown",
   "metadata": {},
   "source": [
    "We can put this inside a function that takes in a Table and just shuffles the `ghosts` column."
   ]
  },
  {
   "cell_type": "code",
   "execution_count": 30,
   "metadata": {},
   "outputs": [],
   "source": [
    "def shuffle_ghosts(ghost_income_table):\n",
    "    '''\n",
    "    Shuffles the ghost column, then returns a Table with Income and ghosts.\n",
    "    '''\n",
    "    shuffled_ghosts = ghost_income_table.sample(ghost_income_table.num_rows, with_replacement = False).column('ghosts')\n",
    "    simulated_ghost_income = Table().with_columns(\"Income\", ghost_income_table.column('Income'),\n",
    "                                                  \"ghosts\", shuffled_ghosts)\n",
    "    return simulated_ghost_income"
   ]
  },
  {
   "cell_type": "markdown",
   "metadata": {},
   "source": [
    "Now, let's do it many times. We put this inside a `for` loop. We'll run the simulation 1000 times, shuffling the ghosts column, then calculating the absolute difference in means. We'll store the absolute difference in means inside an array called `differences`."
   ]
  },
  {
   "cell_type": "code",
   "execution_count": 31,
   "metadata": {},
   "outputs": [],
   "source": [
    "nsimulations = 1000\n",
    "differences = make_array()\n",
    "\n",
    "for i in np.arange(nsimulations):\n",
    "    simulated_ghost_income = shuffle_ghosts(ghost_income)\n",
    "    differences = np.append(differences, statistic(simulated_ghost_income))"
   ]
  },
  {
   "cell_type": "code",
   "execution_count": 39,
   "metadata": {},
   "outputs": [
    {
     "data": {
      "text/plain": [
       "<matplotlib.collections.PathCollection at 0x7fd9c8934070>"
      ]
     },
     "execution_count": 39,
     "metadata": {},
     "output_type": "execute_result"
    },
    {
     "data": {
      "image/png": "[encoded data removed]",
      "text/plain": [
       "<Figure size 432x288 with 1 Axes>"
      ]
     },
     "metadata": {},
     "output_type": "display_data"
    }
   ],
   "source": [
    "Table().with_column('Income Absolute Difference', differences).hist()\n",
    "plots.scatter(observed_statistic, 0, color='red', s = 100)"
   ]
  },
  {
   "cell_type": "markdown",
   "metadata": {},
   "source": [
    "We can also calculate the p-value. "
   ]
  },
  {
   "cell_type": "code",
   "execution_count": 40,
   "metadata": {},
   "outputs": [
    {
     "data": {
      "text/plain": [
       "0.642"
      ]
     },
     "execution_count": 40,
     "metadata": {},
     "output_type": "execute_result"
    }
   ],
   "source": [
    "np.count_nonzero(differences >= observed_statistic) / nsimulations\n"
   ]
  },
  {
   "cell_type": "code",
   "execution_count": null,
   "metadata": {},
   "outputs": [],
   "source": []
  }
 ],
 "metadata": {
  "kernelspec": {
   "display_name": "Python 3",
   "language": "python",
   "name": "python3"
  },
  "language_info": {
   "codemirror_mode": {
    "name": "ipython",
    "version": 3
   },
   "file_extension": ".py",
   "mimetype": "text/x-python",
   "name": "python",
   "nbconvert_exporter": "python",
   "pygments_lexer": "ipython3",
   "version": "3.8.5"
  }
 },
 "nbformat": 4,
 "nbformat_minor": 4
}
