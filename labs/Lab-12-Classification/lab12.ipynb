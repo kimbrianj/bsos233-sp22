{
 "cells": [
  {
   "cell_type": "markdown",
   "metadata": {},
   "source": [
    "# Lab 12: Classification\n",
    "\n",
    "This assignment covers **Chapter 17** from the textbook as well as lecture material from Weeks 12-13. Please complete this assignment by providing answers in cells after the question. Use **Code** cells to write and run any code you need to answer the question and **Markdown** cells to write out answers in words. After you are finished with the assignment, remember to download it as an **HTML file** and submit it in **ELMS**.\n",
    "\n",
    "This assignment is due by **11:59pm on Thursday, May 5**. "
   ]
  },
  {
   "cell_type": "code",
   "execution_count": null,
   "metadata": {},
   "outputs": [],
   "source": [
    "import numpy as np\n",
    "from datascience import *\n",
    "\n",
    "from sklearn.linear_model import LogisticRegression\n",
    "from sklearn.tree import DecisionTreeClassifier\n",
    "from sklearn.neighbors import KNeighborsClassifier\n",
    "\n",
    "from sklearn.metrics import confusion_matrix\n",
    "from sklearn.metrics import precision_score, recall_score"
   ]
  },
  {
   "cell_type": "markdown",
   "metadata": {},
   "source": [
    "Using the classifiers in `sklearn` is very similar to finding the least squares regression line using `LinearRegression`. We first create the model object, then fit the model with our data. In our case, we will fit the data using our train data, and then predict for the test data (using the `predict_proba` method). \n",
    "\n",
    "This assignment will cover the main steps for applying machine learning models.\n",
    "- Create train and test sets\n",
    "- Fit the models using train set\n",
    "- Predict using the test set\n",
    "- Evaluate models using metrics such as precision and recall\n",
    "- Make your conclusions"
   ]
  },
  {
   "cell_type": "markdown",
   "metadata": {},
   "source": [
    "## Brazilian Sign Language"
   ]
  },
  {
   "cell_type": "markdown",
   "metadata": {},
   "source": [
    "Brazilian Sign Language is a visual language used primarily by Brazilians who are deaf.  It is more commonly called Libras.  People who communicate with visual language are called *signers*. "
   ]
  },
  {
   "cell_type": "markdown",
   "metadata": {},
   "source": [
    "Programs like Siri or Google Now begin the process of understanding human speech by classifying short clips of raw sound into basic categories called *phones*.  For example, the recorded sound of someone saying the word \"robot\" might be broken down into several phones: \"rrr\", \"oh\", \"buh\", \"aah\", and \"tuh\".  Phones are then grouped together into further categories like words (\"robot\") and sentences (\"I, for one, welcome our new robot overlords\") that carry more meaning.\n",
    "\n",
    "A visual language like Libras has an analogous structure.  Instead of phones, each word is made up of several *hand movements*.  As a first step in interpreting Libras, we can break down a video clip into small segments, each containing a single hand movement.  The task is then to figure out what hand movement each segment represents.\n",
    "\n",
    "We can do that with classification!\n",
    "\n",
    "The [data](https://archive.ics.uci.edu/ml/machine-learning-databases/libras/movement_libras.names) in this exercise come from Dias, Peres, and Biscaro, researchers at the University of Sao Paulo in Brazil.  They identified 15 distinct hand movements in Libras (probably an oversimplification, but a useful one) and captured short videos of signers making those hand movements.  (You can read more about their work [here](http://ieeexplore.ieee.org/Xplore/login.jsp?url=http%3A%2F%2Fieeexplore.ieee.org%2Fiel5%2F5161636%2F5178557%2F05178917.pdf&authDecision=-203). The paper is gated, so you will need to use the UMD Wi-Fi or VPN to access it.)\n",
    "\n",
    "For each video, they chose 45 still frames from the video and identified the location (in horizontal and vertical coordinates) of the signer's hand in each frame.  Since there are two coordinates for each frame, this gives us a total of 90 numbers summarizing how a hand moved in each video.  Those 90 numbers will be our *attributes*.\n",
    "\n",
    "Each video is *labeled* with the kind of hand movement the signer was making in it.  Each label is one of 15 strings like \"horizontal swing\" or \"vertical zigzag\".\n",
    "\n",
    "For simplicity, we're going to focus on distinguishing between just two kinds of movements: \"horizontal straight-line\" and \"vertical straight-line\".  We took the Sao Paulo researchers' original dataset, which was quite small, and used some simple techniques to create a much larger synthetic dataset.\n",
    "\n",
    "These data are in the file `movements.csv`.  Run the next cell to load it."
   ]
  },
  {
   "cell_type": "code",
   "execution_count": null,
   "metadata": {},
   "outputs": [],
   "source": [
    "movements = Table.read_table(\"movements.csv\")\n",
    "movements.show(5)"
   ]
  },
  {
   "cell_type": "markdown",
   "metadata": {},
   "source": [
    "### Step 1: Create train and test sets\n",
    "\n",
    "First, let's split up the data into train and test sets. For this assignment, we will do a simple holdout set, assigning a random 20% of the data as the test data, and building the model on the remaining 80% of the data. \n",
    "\n",
    "<font color = 'red'>**Question 1. Create two Tables, one called `test` and one called `train`. The `test` table should contain a random 20% of the data, while the `train` Table should contain the other 80%.**<\\font>\n",
    "\n",
    "*Hint:* You can shuffle the entire dataset (sample the whole dataset without replacement), then just take the top 80% as your train data."
   ]
  },
  {
   "cell_type": "code",
   "execution_count": null,
   "metadata": {},
   "outputs": [],
   "source": [
    "\n",
    "\n",
    "\n",
    "\n"
   ]
  },
  {
   "cell_type": "markdown",
   "metadata": {},
   "source": [
    "### Step 2: Fitting the models\n",
    "\n",
    "Let's fit three different models: Logistic Regression, Decision Trees, and K-Nearest Neighbors. The model objects are initialized using the following code."
   ]
  },
  {
   "cell_type": "code",
   "execution_count": null,
   "metadata": {},
   "outputs": [],
   "source": [
    "# Create the model objects\n",
    "logit = LogisticRegression()\n",
    "tree = DecisionTreeClassifier()\n",
    "knn = KNeighborsClassifier(n_neighbors = 7)"
   ]
  },
  {
   "cell_type": "markdown",
   "metadata": {},
   "source": [
    "Note that we are using the default values for many of these. We generally would want to try a variety of different models with different parameters (for example, using different values for the stopping criteria in decision trees). We'll stick with just the defaults for now for this assignments. You can now use the `.fit` method to give it the data. \n",
    "\n",
    "<font color = 'red'>**Question 2. Using the `train` Table you created above, fit each of the three models. Use all of the Frame x and y variables as your features (predictors) to predict the Movement type.**</font>\n",
    "\n",
    "If you're not sure about the exact format of the data needed, remember that you need to use `.rows` for the `X` values and `.column` for the `y` values. See lecture material and Labs 9 and 10 for how we fit linear regression models if you're still unsure of how to proceed.\n",
    "\n",
    "You shouldn't need to change the outcome variable (`Movement type`) to a 0/1 variable. That is, you can use the data as it is without converting any of the categorical variables."
   ]
  },
  {
   "cell_type": "code",
   "execution_count": null,
   "metadata": {},
   "outputs": [],
   "source": [
    "\n",
    "\n",
    "\n",
    "\n"
   ]
  },
  {
   "cell_type": "markdown",
   "metadata": {},
   "source": [
    "After you fit the models, you can use the `.classes_` instance variable to check the classes that are being predicted."
   ]
  },
  {
   "cell_type": "code",
   "execution_count": null,
   "metadata": {},
   "outputs": [],
   "source": [
    "knn.classes_"
   ]
  },
  {
   "cell_type": "markdown",
   "metadata": {},
   "source": [
    "### Step 3: Predict Test Set\n",
    "\n",
    "Just as with linear regression, we can use the `.predict_proba` method with the model objects. The `.predict_proba` method provides scores for each class. We need to select one of the two classes as the \"positive\" outcome. Since there isn't one outcome we're particularly interested in out of the two possibilities, we will just choose \"horizontal straight-line\" to be positive. \n",
    "\n",
    "> In other situations, there might be one that you care more about. For example, if you are trying to predict recidivism in order to provide social programs to help released prisoners at higher risk of returning, then your \"positive\" outcome -- the outcome you are trying to predict -- would be \"return\", so that is what you would want to set as `True` below. \n",
    "\n",
    "We can't simply evaluate using the scores, though. We need to set a threshold so that we predict that an observation is \"horizontal straight-line\" or not. Here, we will set the threshold to be 0.5, but remember, there is nothing special about this number. We could have easily selected any other number between 0 and 1, and we should, in practice, try a wide range of values and see how our models perform with each of these thresholds.\n",
    "\n",
    "An example using K-Nearest Neighbors is shown below."
   ]
  },
  {
   "cell_type": "code",
   "execution_count": null,
   "metadata": {},
   "outputs": [],
   "source": [
    "# Setting a threshold (above means predicted to be horizontal straight-line)\n",
    "threshold = 0.5"
   ]
  },
  {
   "cell_type": "code",
   "execution_count": null,
   "metadata": {},
   "outputs": [],
   "source": [
    "# Make sure you fit the model before running this!\n",
    "test_features = test.select(np.arange(90)).rows\n",
    "knn_predicted = knn.predict_proba(test_features)[:,0] > threshold"
   ]
  },
  {
   "cell_type": "markdown",
   "metadata": {},
   "source": [
    "Note that we are only taking the first value from each row, as evidenced by the `[:,0]`. This is because we want the predicted scores for horizontal straight-line, and that is the first value (see the `.classes_` instance variable above). The scores for each of the categories are given, but we only really care about one, because that's all we need since the scores will add up to 1 across each row. "
   ]
  },
  {
   "cell_type": "markdown",
   "metadata": {},
   "source": [
    "<font color = 'red'>**Question 3. Create an array called `expected` that contain the expected values based on the test set. The `expected` array should contain `True` if the observation is actually a \"horizontal straight-line\" and `False` otherwise. Note that the `expected` array is based entirely on the real dataset, and not on any predictions! Create additional arrays that contain the predicted values for each of the models that we've fit (call them `logit_predicted` and `tree_predicted`).**</font>"
   ]
  },
  {
   "cell_type": "code",
   "execution_count": null,
   "metadata": {},
   "outputs": [],
   "source": [
    "\n",
    "\n",
    "\n"
   ]
  },
  {
   "cell_type": "markdown",
   "metadata": {},
   "source": [
    "### Step 4: Evaluate"
   ]
  },
  {
   "cell_type": "markdown",
   "metadata": {},
   "source": [
    "You can get a confusion matrix using the `confusion_matrix` function that we brought at the beginning. This is part of the `sklearn.metrics` module."
   ]
  },
  {
   "cell_type": "code",
   "execution_count": null,
   "metadata": {},
   "outputs": [],
   "source": [
    "conf_matrix = confusion_matrix(expected,knn_predicted)"
   ]
  },
  {
   "cell_type": "code",
   "execution_count": null,
   "metadata": {},
   "outputs": [],
   "source": [
    "conf_matrix"
   ]
  },
  {
   "cell_type": "markdown",
   "metadata": {},
   "source": [
    "The columns represent predictions and the rows represent actual values, so the top left is true negatives, the bottom right is true positives, the top right is false positives, and the bottom left is false negatives."
   ]
  },
  {
   "cell_type": "markdown",
   "metadata": {},
   "source": [
    "#### Evaluation metrics\n",
    "\n",
    "Two metrics that are often more relevant than overall accuracy are **precision** and **recall**. \n",
    "\n",
    "Precision measures the accuracy of the classifier when it predicts an example to be positive. It is the ratio of correctly predicted positive examples to examples predicted to be positive. \n",
    "\n",
    "$$ Precision = \\frac{TP}{TP+FP}$$\n",
    "\n",
    "Recall measures the accuracy of the classifier to find positive examples in the data. \n",
    "\n",
    "$$ Recall = \\frac{TP}{TP+FN} $$\n",
    "\n",
    "By selecting different thresholds we can vary and tune the precision and recall of a given classifier. A conservative classifier (threshold 0.99) will classify a case as 1 only when it is *very sure*, leading to high precision. On the other end of the spectrum, a low threshold (e.g. 0.01) will lead to higher recall. \n",
    "\n",
    "We can use the `precision_score` and `recall_score` functions to find the value of these measures."
   ]
  },
  {
   "cell_type": "code",
   "execution_count": null,
   "metadata": {},
   "outputs": [],
   "source": [
    "precision_score(expected,knn_predicted)"
   ]
  },
  {
   "cell_type": "code",
   "execution_count": null,
   "metadata": {},
   "outputs": [],
   "source": [
    "recall_score(expected,knn_predicted)"
   ]
  },
  {
   "cell_type": "markdown",
   "metadata": {},
   "source": [
    "<font color = 'red'>**Question 4. Find the confusion matrix for the Logistic Regression and Decision Tree models. Using the confusion matrix, compute the accuracy, precision, and recall. Afterwards, use the `precision_score` and `recall_score` functions to verify your answer.**</font>"
   ]
  },
  {
   "cell_type": "code",
   "execution_count": null,
   "metadata": {},
   "outputs": [],
   "source": [
    "\n",
    "\n",
    "\n",
    "\n"
   ]
  },
  {
   "cell_type": "markdown",
   "metadata": {},
   "source": [
    "### Step 5: Repeating the steps\n",
    "\n",
    "We've done one iteration ... but we've only done it with one threshold, and we haven't tuned the parameters much. We won't go through all of the various ways we can fine-tune our models, but we can show how it is done: using loops.\n",
    "\n",
    "<font color = 'red'>**Question 5. Write a loop that tries thresholds of .1, .3, .5, .7, and .9. Store the precision of each model at each threshold within their own arrays, named `knn_precision`, `logit_precision` and `tree_precision`. Do the same for recall (replacing precision with recall in the naming convention).**</font>\n",
    "\n",
    "The loop has been started below for you."
   ]
  },
  {
   "cell_type": "code",
   "execution_count": null,
   "metadata": {},
   "outputs": [],
   "source": [
    "knn_precision = make_array()\n",
    "logit_precision = make_array()\n",
    "tree_precision = make_array()\n",
    "    \n",
    "knn_recall = make_array()\n",
    "logit_recall = make_array()\n",
    "tree_recall = make_array()\n",
    "\n",
    "# Set up models and fit them here\n",
    "...\n",
    "\n",
    "for i in make_array(.1,.3,.5,.7,.9):\n",
    "    ...\n",
    "    knn_precision = np.append(knn_precision, ...)\n",
    "    logit_precision = np.append(logit_precision, ...)\n",
    "    tree_precision = np.append(tree_precision, ...)\n",
    "    \n",
    "    knn_recall = np.append(knn_recall, ...)\n",
    "    logit_recall = np.append(logit_recall, ...)\n",
    "    tree_recall = np.append(tree_recall, ...)\n",
    "    "
   ]
  },
  {
   "cell_type": "code",
   "execution_count": null,
   "metadata": {},
   "outputs": [],
   "source": [
    "# You can use these to look at results\n",
    "precision_results = Table().with_columns('Threshold', make_array(.1, .3, .5, .7, .9),\n",
    "                              'KNN Precision', knn_precision,\n",
    "                              'Logistic Regression Precision', logit_precision,\n",
    "                              'Decision Tree Precision', tree_precision)\n",
    "\n",
    "recall_results = Table().with_columns('Threshold', make_array(.1, .3, .5, .7, .9),\n",
    "                              'KNN Recall', knn_recall,\n",
    "                              'Logistic Regression Recall', logit_recall,\n",
    "                              'Decision Tree Recall', tree_recall)"
   ]
  },
  {
   "cell_type": "code",
   "execution_count": null,
   "metadata": {},
   "outputs": [],
   "source": [
    "precision_results.show(3)"
   ]
  },
  {
   "cell_type": "code",
   "execution_count": null,
   "metadata": {},
   "outputs": [],
   "source": [
    "recall_results.show(3)"
   ]
  },
  {
   "cell_type": "markdown",
   "metadata": {},
   "source": [
    "<font color = 'red'>**Question 6. What model and threshold combination gives the best precision? The best recall? If there are ties, you can just choose one.**</font>\n",
    "\n",
    "*Hint:* You can use `.sort` to sort a Table by one variable."
   ]
  },
  {
   "cell_type": "code",
   "execution_count": null,
   "metadata": {},
   "outputs": [],
   "source": []
  },
  {
   "cell_type": "markdown",
   "metadata": {},
   "source": [
    "#### Step 6: Model Selection and Conclusions"
   ]
  },
  {
   "cell_type": "markdown",
   "metadata": {},
   "source": [
    "Generally, when deciding on the best model, we compare the models we fit with each other, as well as against a baseline."
   ]
  },
  {
   "cell_type": "markdown",
   "metadata": {},
   "source": [
    "<font color = 'red'>**Question 7. Consider the threshold used in the best model by precision chosen in Question 6. If we were to try to predict whether a hand movement was \"horizontal straight-line\" or not completely randomly, how often would we be right? That is, what would be our precision if we were guessing completely randomly? How well does our best model perform compared to that baseline?**</font>"
   ]
  },
  {
   "cell_type": "code",
   "execution_count": null,
   "metadata": {},
   "outputs": [],
   "source": [
    "\n",
    "\n"
   ]
  }
 ],
 "metadata": {
  "kernelspec": {
   "display_name": "Python 3",
   "language": "python",
   "name": "python3"
  },
  "language_info": {
   "codemirror_mode": {
    "name": "ipython",
    "version": 3
   },
   "file_extension": ".py",
   "mimetype": "text/x-python",
   "name": "python",
   "nbconvert_exporter": "python",
   "pygments_lexer": "ipython3",
   "version": "3.8.5"
  },
  "toc": {
   "base_numbering": 1,
   "nav_menu": {},
   "number_sections": true,
   "sideBar": true,
   "skip_h1_title": false,
   "title_cell": "Table of Contents",
   "title_sidebar": "Contents",
   "toc_cell": false,
   "toc_position": {},
   "toc_section_display": true,
   "toc_window_display": false
  }
 },
 "nbformat": 4,
 "nbformat_minor": 4
}
