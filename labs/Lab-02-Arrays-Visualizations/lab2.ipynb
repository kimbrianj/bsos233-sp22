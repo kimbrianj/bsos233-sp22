{
 "cells": [
  {
   "cell_type": "markdown",
   "metadata": {},
   "source": [
    "# Lab 2: Arrays and Visualizations\n",
    "\n",
    "Please complete this lab by providing answers in cells after the question. Use **Code** cells to write and run any code you need to answer the question and **Markdown** cells to write out answers in words. After you are finished with the assignment, remember to download it as an **HTML file** and submit it in **ELMS**.\n",
    "\n",
    "This assignment is due by **11:59pm on Friday, February 11**."
   ]
  },
  {
   "cell_type": "code",
   "execution_count": null,
   "metadata": {},
   "outputs": [],
   "source": [
    "import numpy as np\n",
    "from datascience import *\n",
    "\n",
    "# These lines do some fancy plotting magic.\n",
    "import matplotlib\n",
    "%matplotlib inline\n",
    "import matplotlib.pyplot as plots"
   ]
  },
  {
   "cell_type": "markdown",
   "metadata": {},
   "source": [
    "## Arrays\n",
    "\n",
    "Computers are most useful when you can use a small amount of code to *do the same action* to *many different things*.\n",
    "\n",
    "For example, in the time it takes you to calculate the 18% tip on a restaurant bill, a laptop can calculate 18% tips for every restaurant bill paid by every human on Earth that day.  (That's if you're pretty fast at doing arithmetic in your head!)\n",
    "\n",
    "**Arrays** are how we put many values in one place so that we can operate on them as a group. For example, if `billions_of_numbers` is an array of numbers, the expression\n",
    "\n",
    "    .18 * billions_of_numbers\n",
    "\n",
    "gives a new array of numbers that contains the result of multiplying each number in `billions_of_numbers` by .18.  Arrays are not limited to numbers; we can also put all the words in a book into an array of strings.\n",
    "\n",
    "Concretely, an array is a **collection of values of the same type**, like a column in an Excel spreadsheet. \n",
    "\n",
    "<img src=\"excel_array.jpg\">"
   ]
  },
  {
   "cell_type": "markdown",
   "metadata": {},
   "source": [
    "## Making arrays\n",
    "You can type in the data that goes in an array yourself, but that's not typically how programs work. Normally, we create arrays by loading them from an external source, like a data file.\n",
    "\n",
    "First, though, let's learn how to do it the hard way. To create an array by hand, call the function `make_array`.  Each argument you pass to `make_array` will be in the array it returns.  Run this cell to see an example:"
   ]
  },
  {
   "cell_type": "code",
   "execution_count": null,
   "metadata": {
    "scrolled": true
   },
   "outputs": [],
   "source": [
    "make_array(0.125, 4.75, -1.3)"
   ]
  },
  {
   "cell_type": "markdown",
   "metadata": {},
   "source": [
    "Each value in an array (in the above case, the numbers 0.125, 4.75, and -1.3) is called an *element* of that array.\n",
    "\n",
    "Arrays themselves are also values, just like numbers and strings.  That means you can assign them to names or use them as arguments to functions. For example, `len(<some_array>)` returns the number of elements in `some_array`."
   ]
  },
  {
   "cell_type": "markdown",
   "metadata": {},
   "source": [
    "<font color ='red'>**Question 1. Make an array containing the numbers 0, 1, -1, $\\pi$, and $e$, in that order.  Name it `interesting_numbers`.**</font>\n",
    "\n",
    "*Hint:* How did you get the values $\\pi$ and $e$ previously?  You can refer to them in exactly the same way here."
   ]
  },
  {
   "cell_type": "code",
   "execution_count": null,
   "metadata": {},
   "outputs": [],
   "source": [
    "\n",
    "\n",
    "\n",
    "\n"
   ]
  },
  {
   "cell_type": "markdown",
   "metadata": {},
   "source": [
    "###  `np.arange`\n",
    "Arrays are provided by a package called [NumPy](http://www.numpy.org/) (pronounced \"NUM-pie\" or, if you prefer to pronounce things incorrectly, \"NUM-pee\").  The package is called `numpy`, but it's standard to rename it `np` for brevity.  You can do that with:\n",
    "\n",
    "    import numpy as np\n",
    "\n",
    "Very often in data science, we want to work with many numbers that are evenly spaced within some range.  NumPy provides a special function for this called `arange`.  The line of code `np.arange(start, stop, step)` evaluates to an array with all the numbers starting at `start` and counting up by `step`, stopping **before** `stop` is reached.\n",
    "\n",
    "Run the following cells to see some examples!"
   ]
  },
  {
   "cell_type": "code",
   "execution_count": null,
   "metadata": {},
   "outputs": [],
   "source": [
    "# This array starts at 1 and counts up by 2\n",
    "# and then stops before 6\n",
    "np.arange(1, 6, 2)"
   ]
  },
  {
   "cell_type": "code",
   "execution_count": null,
   "metadata": {},
   "outputs": [],
   "source": [
    "# This array doesn't contain 9\n",
    "# because np.arange stops *before* the stop value is reached\n",
    "np.arange(4, 9, 1)"
   ]
  },
  {
   "cell_type": "code",
   "execution_count": null,
   "metadata": {},
   "outputs": [],
   "source": [
    "# You can also use a single number to create an array of all integers from 0 to that number\n",
    "np.arange(10)"
   ]
  },
  {
   "cell_type": "markdown",
   "metadata": {},
   "source": [
    "<font color = 'red'>**Question 2. Use `np.arange` to create an array with the multiples of 99 from 0 up to (**and including**) 9999 (So its elements are 0, 99, 198, 297, etc.). Assign this to `my_array`.**</font>"
   ]
  },
  {
   "cell_type": "code",
   "execution_count": null,
   "metadata": {},
   "outputs": [],
   "source": [
    "\n",
    "\n",
    "\n",
    "\n",
    "\n",
    "\n",
    "\n"
   ]
  },
  {
   "cell_type": "markdown",
   "metadata": {},
   "source": [
    "## Working with single elements of arrays (\"indexing\")\n",
    "Let's work with a more interesting dataset.  The next cell creates an array called `population_amounts` that includes estimated world populations in every year from **1950** to roughly the present (The estimates come from the US Census Bureau website.).\n",
    "\n",
    "Rather than type in the data manually, we've loaded them from a file called `world_population.csv`. "
   ]
  },
  {
   "cell_type": "code",
   "execution_count": null,
   "metadata": {},
   "outputs": [],
   "source": [
    "population_amounts = Table.read_table(\"world_population.csv\").column(\"Population\")\n",
    "population_amounts"
   ]
  },
  {
   "cell_type": "markdown",
   "metadata": {},
   "source": [
    "Here's how we get the first element of `population_amounts`, which is the world population in the first year in the dataset, 1950."
   ]
  },
  {
   "cell_type": "code",
   "execution_count": null,
   "metadata": {},
   "outputs": [],
   "source": [
    "population_amounts.item(0)"
   ]
  },
  {
   "cell_type": "markdown",
   "metadata": {},
   "source": [
    "The value of that expression is the number 2557628654 (around 2.5 billion), because that's the first thing in the array `population_amounts`.\n",
    "\n",
    "Notice that we wrote `.item(0)`, not `.item(1)`, to get the first element.  This is a weird convention in computer science.  0 is called the *index* of the first item.  It's the number of elements that appear *before* that item.  So 3 is the index of the 4th item.\n",
    "\n",
    "Here are some more examples.  In the examples, we've given names to the things we get out of `population_amounts`.  Read and run each cell."
   ]
  },
  {
   "cell_type": "code",
   "execution_count": null,
   "metadata": {},
   "outputs": [],
   "source": [
    "# The 13th element in the array is the population\n",
    "# in 1962 (which is 1950 + 12).\n",
    "population_1962 = population_amounts.item(12)\n",
    "population_1962"
   ]
  },
  {
   "cell_type": "code",
   "execution_count": null,
   "metadata": {},
   "outputs": [],
   "source": [
    "# The 66th element is the population in 2015.\n",
    "population_2015 = population_amounts.item(65)\n",
    "population_2015"
   ]
  },
  {
   "cell_type": "code",
   "execution_count": null,
   "metadata": {},
   "outputs": [],
   "source": [
    "# The array has only 66 elements, so this doesn't work.\n",
    "# (There's no element with 66 other elements before it.)\n",
    "population_2016 = population_amounts.item(66)\n",
    "population_2016"
   ]
  },
  {
   "cell_type": "markdown",
   "metadata": {},
   "source": [
    "Since `make_array` returns an array, we can call `.item(3)` on its output to get its 4th element, just like we \"chained\" together calls to the method `replace` earlier."
   ]
  },
  {
   "cell_type": "code",
   "execution_count": null,
   "metadata": {},
   "outputs": [],
   "source": [
    "make_array(-1, -3, 4, -2).item(3)"
   ]
  },
  {
   "cell_type": "markdown",
   "metadata": {},
   "source": [
    "<font color = 'red'>**Question 3. Set `population_1973` to the world population in 1973, by getting the appropriate element from `population_amounts` using `item`.**</font>"
   ]
  },
  {
   "cell_type": "code",
   "execution_count": null,
   "metadata": {},
   "outputs": [],
   "source": [
    "\n",
    "\n",
    "\n",
    "\n",
    "\n",
    "\n"
   ]
  },
  {
   "cell_type": "markdown",
   "metadata": {},
   "source": [
    "## Doing something to every element of an array\n",
    "Arrays are primarily useful for doing the same operation many times, so we don't often have to use `.item` and work with single elements.\n",
    "\n",
    "Here is one simple question we might ask about world population:\n",
    "\n",
    "> How big was the population in *orders of magnitude* in each year?\n",
    "\n",
    "Orders of magnitude quantify how big a number is by representing it as the power of another number (for example, representing 104 as $10^{2.017033}$). One way to do this is by using the logarithm function. The logarithm (base 10) of a number increases by 1 every time we multiply the number by 10. It's like a measure of how many decimal digits the number has, or how big it is in orders of magnitude.\n",
    "\n",
    "We could try to answer our question like this, using the `log10` function from the `math` module and the `item` method you just saw:"
   ]
  },
  {
   "cell_type": "code",
   "execution_count": null,
   "metadata": {
    "scrolled": true
   },
   "outputs": [],
   "source": [
    "population_1950_magnitude = np.log10(population_amounts.item(0))\n",
    "population_1951_magnitude = np.log10(population_amounts.item(1))\n",
    "population_1952_magnitude = np.log10(population_amounts.item(2))\n",
    "population_1953_magnitude = np.log10(population_amounts.item(3))\n",
    "..."
   ]
  },
  {
   "cell_type": "markdown",
   "metadata": {},
   "source": [
    "But this is tedious and doesn't really take advantage of the fact that we are using a computer.\n",
    "\n",
    "Instead, NumPy provides its own version of `log10` that takes the logarithm of each element of an array.  It takes a single array of numbers as its argument.  It returns an array of the same length, where the first element of the result is the logarithm of the first element of the argument, and so on."
   ]
  },
  {
   "cell_type": "code",
   "execution_count": null,
   "metadata": {},
   "outputs": [],
   "source": [
    "population_magnitudes = np.log10(population_amounts)\n",
    "population_magnitudes"
   ]
  },
  {
   "cell_type": "markdown",
   "metadata": {},
   "source": [
    "What you just did is called *elementwise* application of `np.log10`, since `np.log10` operates separately on each element of the array that it's called on. Here's a picture of what's going on:"
   ]
  },
  {
   "cell_type": "markdown",
   "metadata": {},
   "source": [
    "<img src=\"array_logarithm.jpg\">\n",
    "\n",
    "\n",
    "The textbook's [section](https://www.inferentialthinking.com/chapters/05/1/Arrays)  on arrays has a useful list of NumPy functions that are designed to work elementwise, like `np.log10`."
   ]
  },
  {
   "cell_type": "markdown",
   "metadata": {},
   "source": [
    "Arithmetic also works elementwise on arrays.  For example, you can divide all the population numbers by 1 billion to get numbers in billions:"
   ]
  },
  {
   "cell_type": "code",
   "execution_count": null,
   "metadata": {},
   "outputs": [],
   "source": [
    "population_in_billions = population_amounts / 1000000000\n",
    "population_in_billions"
   ]
  },
  {
   "cell_type": "markdown",
   "metadata": {},
   "source": [
    "You can do the same with addition, subtraction, multiplication, and exponentiation (`**`)."
   ]
  },
  {
   "cell_type": "markdown",
   "metadata": {},
   "source": [
    "## Creating Tables\n",
    "\n",
    "An array is useful for describing a single attribute of each element in a collection. For example, let's say our collection is all US States. Then an array could describe the land area of each state. \n",
    "\n",
    "Tables extend this idea by containing multiple arrays, each one describing a different attribute for every element of a collection. In this way, tables allow us to not only store data about many entities but to also contain several kinds of data about each entity.\n",
    "\n",
    "For example, in the cell below we have two arrays. The first one, `population_amounts`, was defined above and contains the world population in each year (estimated by the US Census Bureau). The second array, `years`, contains the years themselves. These elements are in order, so the year and the world population for that year have the same index in their corresponding arrays."
   ]
  },
  {
   "cell_type": "code",
   "execution_count": null,
   "metadata": {},
   "outputs": [],
   "source": [
    "# Creating a years array\n",
    "\n",
    "years = np.arange(1950, 2016)"
   ]
  },
  {
   "cell_type": "code",
   "execution_count": null,
   "metadata": {},
   "outputs": [],
   "source": [
    "print(\"Population column:\", population_amounts)"
   ]
  },
  {
   "cell_type": "code",
   "execution_count": null,
   "metadata": {},
   "outputs": [],
   "source": [
    "print(\"Years column:\", years)"
   ]
  },
  {
   "cell_type": "markdown",
   "metadata": {},
   "source": [
    "Suppose we want to answer this question:\n",
    "\n",
    "> In which year did the world's population cross 6 billion?\n",
    "\n",
    "You could technically answer this question just from staring at the arrays, but it's a bit convoluted, since you would have to count the position where the population first crossed 6 billion, then find the corresponding element in the years array. In cases like these, it might be easier to put the data into a *`Table`*, a 2-dimensional type of dataset. \n",
    "\n",
    "The expression below:\n",
    "\n",
    "- creates an empty table using the expression `Table()`,\n",
    "- adds two columns by calling `with_columns` with four arguments,\n",
    "- assigns the result to the name `population`, and finally\n",
    "- evaluates `population` so that we can see the table.\n",
    "\n",
    "The strings `\"Year\"` and `\"Population\"` are column labels that we have chosen. The names `population_amounts` and `years` were assigned above to two arrays of the **same length**. The function `with_columns` (you can find the documentation [here](http://data8.org/datascience/tables.html)) takes in alternating strings (to represent column labels) and arrays (representing the data in those columns). The strings and arrays are separated by commas."
   ]
  },
  {
   "cell_type": "code",
   "execution_count": null,
   "metadata": {},
   "outputs": [],
   "source": [
    "population = Table().with_columns(\n",
    "    \"Population\", population_amounts,\n",
    "    \"Year\", years\n",
    ")\n",
    "population"
   ]
  },
  {
   "cell_type": "markdown",
   "metadata": {},
   "source": [
    "Now the data is combined into a single table! It's much easier to parse this data. If you need to know what the population was in 1959, for example, you can tell from a single glance."
   ]
  },
  {
   "cell_type": "markdown",
   "metadata": {},
   "source": [
    "<font color = 'red'>**Question 4. Create an array that contain numbers from 0 to 10, as well as an array that contains numbers from $2^0$ to $2^{10}$. Create a new table that contains both arrays, with the column names \"Value\" and \"Exponential\".**</font>"
   ]
  },
  {
   "cell_type": "code",
   "execution_count": null,
   "metadata": {},
   "outputs": [],
   "source": [
    "\n",
    "\n",
    "\n",
    "\n",
    "\n",
    "\n",
    "\n"
   ]
  },
  {
   "cell_type": "markdown",
   "metadata": {},
   "source": [
    "## More Table Operations!\n",
    "\n",
    "Now that you've worked with arrays, let's add a few more methods to the list of table operations that you saw in Lab 1."
   ]
  },
  {
   "cell_type": "code",
   "execution_count": null,
   "metadata": {},
   "outputs": [],
   "source": [
    "imdb = Table.read_table('imdb.csv')"
   ]
  },
  {
   "cell_type": "markdown",
   "metadata": {},
   "source": [
    "### `column`\n",
    "\n",
    "`column` takes the column name of a table (in string format) as its argument and returns the values in that column as an **array**. "
   ]
  },
  {
   "cell_type": "code",
   "execution_count": null,
   "metadata": {
    "scrolled": true
   },
   "outputs": [],
   "source": [
    "# Returns an array of movie names\n",
    "imdb.column('Title')"
   ]
  },
  {
   "cell_type": "markdown",
   "metadata": {},
   "source": [
    "### `take`\n",
    "The table method `take` takes as its argument an array of numbers.  Each number should be the index of a row in the table.  It returns a **new table** with only those rows. \n",
    "\n",
    "You'll usually want to use `take` in conjunction with `np.arange` to take the first few rows of a table."
   ]
  },
  {
   "cell_type": "code",
   "execution_count": null,
   "metadata": {
    "scrolled": true
   },
   "outputs": [],
   "source": [
    "# Take first 5 movies of top_10_movies\n",
    "imdb.take(np.arange(0, 5, 1))"
   ]
  },
  {
   "cell_type": "markdown",
   "metadata": {},
   "source": [
    "<font color = 'red'>**Question 5. Check out the `population` table from earlier in this lab. Create a new table called `pop_ten_years` that contains the population at the beginning of each decade, starting with 1950 (so, every ten years).**</font>"
   ]
  },
  {
   "cell_type": "code",
   "execution_count": null,
   "metadata": {},
   "outputs": [],
   "source": [
    "\n",
    "\n",
    "\n",
    "\n",
    "\n",
    "\n",
    "\n",
    "\n"
   ]
  },
  {
   "cell_type": "markdown",
   "metadata": {},
   "source": [
    "### `group`\n",
    "The table method `group` takes as its argument a string representing a column name. This gives the count of each category of that variable. **Use this with only with categorical variables, since it won't really make sense with numerical data.** Note that even if a variable has numbers, that doesn't mean it's a numerical variable. For example, we can find the number of movies that were released in each decade using `group` with the `Decade` variable."
   ]
  },
  {
   "cell_type": "code",
   "execution_count": null,
   "metadata": {},
   "outputs": [],
   "source": [
    "movies_by_decade = imdb.group('Decade')\n",
    "movies_by_decade"
   ]
  },
  {
   "cell_type": "markdown",
   "metadata": {},
   "source": [
    "We can also use the `collect` parameter to summarize other variables split up by the categories in `Decade`."
   ]
  },
  {
   "cell_type": "code",
   "execution_count": null,
   "metadata": {},
   "outputs": [],
   "source": [
    "imdb.group('Decade', collect = np.mean)"
   ]
  },
  {
   "cell_type": "markdown",
   "metadata": {},
   "source": [
    "### `pivot`\n",
    "\n",
    "You can use `pivot` to create contingency tables, looking at the counts for multiple categorical variables. You can also use `pivot` to find, for example, the mean of a third variable within each combination of categories. We'll focus on the first one for now. Let's say we want find out what the distribution of movies that got rated 8 or higher was by decade.\n",
    "\n",
    "We first need to create a column that determines whether a movie had a rating above 8. We can do this with the following code."
   ]
  },
  {
   "cell_type": "code",
   "execution_count": null,
   "metadata": {},
   "outputs": [],
   "source": [
    "imdb['above_8'] = imdb.column('Rating') > 8"
   ]
  },
  {
   "cell_type": "code",
   "execution_count": null,
   "metadata": {},
   "outputs": [],
   "source": [
    "imdb.show(5)"
   ]
  },
  {
   "cell_type": "markdown",
   "metadata": {},
   "source": [
    "The right side is doing a comparison between all of the elements of the array `imdb.column('Rating')` and `8`. It returns an array that contains `True` if the rating is higher than 8 and `False` if not. We can then use this column and `Decade` with `pivot` to create a two-way contingency table."
   ]
  },
  {
   "cell_type": "code",
   "execution_count": null,
   "metadata": {},
   "outputs": [],
   "source": [
    "imdb.pivot('above_8','Decade')"
   ]
  },
  {
   "cell_type": "markdown",
   "metadata": {},
   "source": [
    "### `stats`, `mean`\n",
    "\n",
    "The table method `stats` provides summary statistics for each column in the table. Note that it tries to figure out whether a variable is numerical or categorical, but it can be wrong! Let's take a look at what happens if we try to get descriptive statistics for the `imdb` table."
   ]
  },
  {
   "cell_type": "code",
   "execution_count": null,
   "metadata": {},
   "outputs": [],
   "source": [
    "imdb.stats()"
   ]
  },
  {
   "cell_type": "markdown",
   "metadata": {},
   "source": [
    "This shows some statistics, but we might some others. We can use the `mean` method to find the mean. "
   ]
  },
  {
   "cell_type": "code",
   "execution_count": null,
   "metadata": {},
   "outputs": [],
   "source": [
    "imdb.select('Rating').mean()"
   ]
  },
  {
   "cell_type": "markdown",
   "metadata": {},
   "source": [
    "<font color = 'red'>**Question 6. What is the mean number of votes that a movie got? How does it compare to the median? What would you say about the shape of the distribution of votes based on this information?**</font>"
   ]
  },
  {
   "cell_type": "code",
   "execution_count": null,
   "metadata": {},
   "outputs": [],
   "source": [
    "\n",
    "\n",
    "\n",
    "\n",
    "\n"
   ]
  },
  {
   "cell_type": "markdown",
   "metadata": {},
   "source": [
    "## Visualizations\n",
    "\n",
    "Why did we spend so much time on manipulating data? Because to get the visualization that we want, we're going to need to use many of these tools. In this section, we'll use the `imdb` dataset to explore some basic descriptive statistics and data visualizations."
   ]
  },
  {
   "cell_type": "code",
   "execution_count": null,
   "metadata": {},
   "outputs": [],
   "source": [
    "imdb = Table.read_table('imdb.csv')"
   ]
  },
  {
   "cell_type": "code",
   "execution_count": null,
   "metadata": {},
   "outputs": [],
   "source": [
    "imdb.show(5)"
   ]
  },
  {
   "cell_type": "markdown",
   "metadata": {},
   "source": [
    "### Numerical Variables: Histograms and Boxplots\n",
    "\n",
    "We can make histograms by using the `.hist` method. To do this, though, you need to make sure that you only include the variable that you want as a Table. That is, you need to make sure that your data is in this form:"
   ]
  },
  {
   "cell_type": "code",
   "execution_count": null,
   "metadata": {},
   "outputs": [],
   "source": [
    "imdb_rating = imdb.select('Rating')\n",
    "imdb_rating.show(5)"
   ]
  },
  {
   "cell_type": "code",
   "execution_count": null,
   "metadata": {},
   "outputs": [],
   "source": [
    "imdb_rating.hist()"
   ]
  },
  {
   "cell_type": "markdown",
   "metadata": {},
   "source": [
    "You can control characteristics about the histogram using parameters such as `bins`."
   ]
  },
  {
   "cell_type": "code",
   "execution_count": null,
   "metadata": {},
   "outputs": [],
   "source": [
    "imdb_rating.hist(bins = 5)"
   ]
  },
  {
   "cell_type": "markdown",
   "metadata": {},
   "source": [
    "Another visualization you can use for numerical data is a boxplot. As you might be able to guess, you can create this using the `boxplot` method. The data must be in a similar format."
   ]
  },
  {
   "cell_type": "code",
   "execution_count": null,
   "metadata": {},
   "outputs": [],
   "source": [
    "imdb_rating.boxplot()"
   ]
  },
  {
   "cell_type": "markdown",
   "metadata": {},
   "source": [
    "### Bar Chart\n",
    "\n",
    "To make bar charts, we first need to create the summaries of the groups that we want to graph. Remember: bar charts are used for categorical variables. This means that we want to get the **counts** for each **category** in that variable. We can do this using the `group` method. "
   ]
  },
  {
   "cell_type": "code",
   "execution_count": null,
   "metadata": {},
   "outputs": [],
   "source": [
    "movies_by_decade = imdb.group('Decade')\n",
    "movies_by_decade"
   ]
  },
  {
   "cell_type": "markdown",
   "metadata": {},
   "source": [
    "We take this table and use the `barh` method, specifying which variable we want to create the graph of."
   ]
  },
  {
   "cell_type": "code",
   "execution_count": null,
   "metadata": {},
   "outputs": [],
   "source": [
    "movies_by_decade.barh('Decade')"
   ]
  },
  {
   "cell_type": "markdown",
   "metadata": {},
   "source": [
    "<font color = 'red'>**Question 7. Create a bar graph of the number of movies that had a rating above 8 or below 8.**</font>"
   ]
  },
  {
   "cell_type": "code",
   "execution_count": null,
   "metadata": {},
   "outputs": [],
   "source": [
    "\n",
    "\n",
    "\n",
    "\n",
    "\n",
    "\n",
    "\n"
   ]
  },
  {
   "cell_type": "markdown",
   "metadata": {},
   "source": [
    "To create a bar chart with multiple categories, we can use the `pivot` method to create a contingency table and use that instead of the `group` method."
   ]
  },
  {
   "cell_type": "code",
   "execution_count": null,
   "metadata": {},
   "outputs": [],
   "source": [
    "imdb.pivot('above_8','Decade').barh('Decade')"
   ]
  },
  {
   "cell_type": "markdown",
   "metadata": {},
   "source": [
    "### Line Graph\n",
    "\n",
    "Let's say we want to look at the change in movie ratings over time. To investigate this, we'll plot the mean rating over time. \n",
    "\n",
    "First, we need to get the data in the form we want it. We want a column with the different decades in our dataset (the x-axis) as well as a column with the mean rating for that decade (the y-axis). To obtain a table with this data, we can use the `group` method, using `collect = np.mean` as a parameter."
   ]
  },
  {
   "cell_type": "code",
   "execution_count": null,
   "metadata": {},
   "outputs": [],
   "source": [
    "rating_by_decade = imdb.select('Decade','Rating').group('Decade', collect = np.mean)\n",
    "rating_by_decade"
   ]
  },
  {
   "cell_type": "code",
   "execution_count": null,
   "metadata": {},
   "outputs": [],
   "source": [
    "# The variable to go on the x-axis is specified as a parameter\n",
    "rating_by_decade.plot('Decade')"
   ]
  },
  {
   "cell_type": "markdown",
   "metadata": {},
   "source": [
    "## <font color = 'red'>**Questions: Manipulating Data and Making Visualizations**</font>\n",
    "\n",
    "**Question 1.** What is the distribution of the number of votes that the movies got? What is the shape (number of modes, skewed vs. symmetric)? Use visualizations to show this.\n",
    "\n",
    "*Hint:* Think about what graphs and numerical statistics would be best for describing this. What type of variable is votes? How would you best describe it?"
   ]
  },
  {
   "cell_type": "code",
   "execution_count": null,
   "metadata": {},
   "outputs": [],
   "source": [
    "\n",
    "\n",
    "\n",
    "\n",
    "\n",
    "\n"
   ]
  },
  {
   "cell_type": "markdown",
   "metadata": {},
   "source": [
    "**Question 2.** Recall that we made a table called `population` earlier in the lab. Create a visualization to show the population over time. "
   ]
  },
  {
   "cell_type": "code",
   "execution_count": null,
   "metadata": {},
   "outputs": [],
   "source": [
    "\n",
    "\n",
    "\n",
    "\n",
    "\n",
    "\n",
    "\n"
   ]
  }
 ],
 "metadata": {
  "kernelspec": {
   "display_name": "Python 3",
   "language": "python",
   "name": "python3"
  },
  "language_info": {
   "codemirror_mode": {
    "name": "ipython",
    "version": 3
   },
   "file_extension": ".py",
   "mimetype": "text/x-python",
   "name": "python",
   "nbconvert_exporter": "python",
   "pygments_lexer": "ipython3",
   "version": "3.8.5"
  }
 },
 "nbformat": 4,
 "nbformat_minor": 4
}
