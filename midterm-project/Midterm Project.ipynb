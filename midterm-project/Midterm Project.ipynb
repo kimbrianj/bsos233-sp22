{
 "cells": [
  {
   "cell_type": "markdown",
   "metadata": {},
   "source": [
    "# Midterm Project: Hypothesis Testing\n",
    "\n",
    "This project is due by **11:59pm on Thursday, March 31**."
   ]
  },
  {
   "cell_type": "markdown",
   "metadata": {},
   "source": [
    "So far in this class, we've started out by using numerical and graphical summaries to describe data, then used simulations to be able to make more meaningful conclusions about the data. In this midterm project, you will need to combine all of that together to write up a report using this dataset (which you should hopefully be very familiar with by now).\n",
    "\n",
    "Consider the Cards Against Humanity Pulse of the Nation dataset, provided in `201709-CAH_PulseOfTheNation.csv`. In this project, you will **formulate a question** that can be answered by this dataset, then use **descriptive statistics, hypothesis tests, and confidence intervals** to answer that question. The question that you may ask is quite open-ended, but I've provided a scenario below to help you get started. "
   ]
  },
  {
   "cell_type": "markdown",
   "metadata": {},
   "source": [
    "## Scenario: Public Opinion Research Company\n",
    "\n",
    "Pretend you are working for a public opinion research company, and you have been tasked with finding out characteristics about people based on their political party. In particular, the company wants to know how people from different political parties differ. \n",
    "\n",
    "**Write a report** based on the Pulse of the Nation dataset. Make sure to include:\n",
    "- A clear description of the **question of interest** and the variables you are studying.\n",
    "- **Descriptive statistics and visualizations** that help the reader understand the data better.\n",
    "- **One hypothesis test** or **bootstrap confidence interval** using simulations.\n",
    "- A clear **conclusion** based on your analysis, including a clear **plan of action.**\n",
    "\n",
    "You do not need to look at every single variable in the dataset! Choose **one variable (in addition to Political Affiliation)** to explore. You also don't need to use every single category within Political Affiliation (e.g., you can subset the data to just Democrats and Republicans). Make sure you have a reason for looking at the variables that you did, and motivate why you chose those variables in the introduction. Write your report in a separate Jupyter Notebook, formatting it so that the code is included with the text. You can include a title and section headings by using '#' symbols in Markdown formatting.\n",
    "\n",
    "### Some Notes\n",
    "\n",
    "When formulating your research question, think about how it might be used. **You need to have a policy/action that you suggest at the end.** That is, a hypothesis test or confidence interval is useless if you have no way of using it.\n",
    "\n",
    "You will likely do some analysis that doesn't make it into the final submission of your mini-project report. Include them in an appendix section at the end! This might include\n",
    "- Preliminary graphs and summary statistics of variables you considered, but didn't use\n",
    "- Data cleaning steps \n",
    "- More in-depth discussion of the simulations you performed for your hypothesis test and confidence interval"
   ]
  },
  {
   "cell_type": "code",
   "execution_count": null,
   "metadata": {},
   "outputs": [],
   "source": []
  }
 ],
 "metadata": {
  "kernelspec": {
   "display_name": "Python 3",
   "language": "python",
   "name": "python3"
  },
  "language_info": {
   "codemirror_mode": {
    "name": "ipython",
    "version": 3
   },
   "file_extension": ".py",
   "mimetype": "text/x-python",
   "name": "python",
   "nbconvert_exporter": "python",
   "pygments_lexer": "ipython3",
   "version": "3.8.5"
  },
  "toc": {
   "base_numbering": 1,
   "nav_menu": {},
   "number_sections": true,
   "sideBar": true,
   "skip_h1_title": false,
   "title_cell": "Table of Contents",
   "title_sidebar": "Contents",
   "toc_cell": false,
   "toc_position": {},
   "toc_section_display": true,
   "toc_window_display": false
  }
 },
 "nbformat": 4,
 "nbformat_minor": 4
}
