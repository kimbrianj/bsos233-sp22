{
 "cells": [
  {
   "cell_type": "markdown",
   "metadata": {},
   "source": [
    "# Project Template: The Title of the Final Project\n",
    "\n",
    "## Introduction\n",
    "\n",
    "An introduction to the problem would go here. Motivate the problem. Why is this of interest?\n",
    "\n",
    "Include 1-2 paragraphs here. **REMEMBER TO REMOVE ANY TEXT IF USING THIS AS YOUR TEMPLATE**."
   ]
  },
  {
   "cell_type": "markdown",
   "metadata": {},
   "source": [
    "## Data Description\n",
    "\n",
    "You might use some data descriptives here. The data should be clear to anyone who has not looked at the dataset. For example, make sure you indicate how many people there are, how many people in different groups if that is important for your project, and summary statistics of the variables you are looking at.\n",
    "\n",
    "Include an initial paragraph before showing any graphs or tables. Include at least a few sentences describing each table and graph that you show."
   ]
  },
  {
   "cell_type": "markdown",
   "metadata": {},
   "source": [
    "## Confidence Interval\n",
    "\n",
    "Describe the confidence interval and interpret it. You may include this as part of the next section."
   ]
  },
  {
   "cell_type": "markdown",
   "metadata": {},
   "source": [
    "## Prediction\n",
    "\n",
    "Use 1-2 paragraphs to describe how you are approaching the prediction problem.\n",
    "\n",
    "Use 1-2 paragraphs to describe the model-building process, including any assessment of how appropriate the model is, using graphs if necessary. \n",
    "\n",
    "If using linear regression, write out the equation. If using classification, include performance results."
   ]
  },
  {
   "cell_type": "markdown",
   "metadata": {},
   "source": [
    "## Conclusion\n",
    "\n",
    "Concluding remarks go here. Include 1-2 paragraphs in this section. Make sure you tie it back in with your problem of interest from the introduction! Why are the results you found important? How can you apply this in the real world?"
   ]
  }
 ],
 "metadata": {
  "kernelspec": {
   "display_name": "Python 3",
   "language": "python",
   "name": "python3"
  },
  "language_info": {
   "codemirror_mode": {
    "name": "ipython",
    "version": 3
   },
   "file_extension": ".py",
   "mimetype": "text/x-python",
   "name": "python",
   "nbconvert_exporter": "python",
   "pygments_lexer": "ipython3",
   "version": "3.8.5"
  },
  "toc": {
   "base_numbering": 1,
   "nav_menu": {},
   "number_sections": true,
   "sideBar": true,
   "skip_h1_title": false,
   "title_cell": "Table of Contents",
   "title_sidebar": "Contents",
   "toc_cell": false,
   "toc_position": {},
   "toc_section_display": true,
   "toc_window_display": false
  }
 },
 "nbformat": 4,
 "nbformat_minor": 4
}
