{
 "cells": [
  {
   "cell_type": "markdown",
   "metadata": {},
   "source": [
    "# Final Project: Prediction\n",
    "\n",
    "The Final Project is due by **11:59pm on Monday, May 16**."
   ]
  },
  {
   "cell_type": "markdown",
   "metadata": {},
   "source": [
    "Pretend you are working for a fictional company, and you have been asked to explore a dataset with regard to a certain policy/action/decision.  You can take some liberties with this scenario, but make sure there is a concrete plan of action that you recommend at the end.  Write a report **describing the problem of interest**, using **descriptive statistics** to learn more about the data, running a **prediction** analysis, and **recommending a plan of action** based on the results of your analyses."
   ]
  },
  {
   "cell_type": "markdown",
   "metadata": {},
   "source": [
    "## Data\n",
    "\n",
    "You have been given a dataset of another wave of the Pulse of the Nation survey, this time collected in August 2018. This is available in the `201808-CAH_PulseOfTheNation.csv` file. This survey contains some different questions compared to the dataset we have worked with in this class so far. The variable names and the question associated with each one is provided in the `PulseOfTheNation-201808 Codebook.txt` file. Many of the variable names make it easy to see what the question was, but it might be harder to determine for others, so make sure you read through it carefully! The list of variable names and questions is also provided at the end of this document.\n",
    "\n",
    "## Project Guidelines\n",
    "\n",
    "In your report, you must include:\n",
    "- A clear description of the **question of interest** and the variables you are studying.\n",
    "- **Descriptive statistics and visualizations** that help the reader understand the data better.\n",
    "- At least one **bootstrap** confidence interval. \n",
    "- A **prediction** model using linear regression or classification.\n",
    "- A clear **conclusion** based on your analysis, including a clear **plan of action.**\n",
    "\n",
    "The bootstrap confidence interval can be part of the prediction model if you want (for example, a bootstrap confidence interval for the coefficient). Make sure you have a reason for looking at the variables that you did, and motivate why you chose those variables in the introduction. Write your report in a separate Jupyter Notebook, formatting it so that the code is included with the text. Make sure to include a title and section headings by using '#' symbols in Markdown formatting.\n",
    "\n",
    "### Problem Description\n",
    "\n",
    "You should start the project with a short description of the **problem of interest**. This must be something that you can propose an action on.  Examples of good formulations of the problem are:\n",
    "- Is smoking associated with a higher rate of low birthweight babies?\n",
    "- What are the main factors associated with higher grades in a class?\n",
    "\n",
    "In  each  of  these  cases, a conclusion  and  associated  plan  of  action  could  be  aimed  at  answered the following questions:\n",
    "- Should we ban smoking during pregnancy?\n",
    "- What should we do to improve grades?\n",
    "\n",
    "### Descriptive Statistics\n",
    "\n",
    "You must describe the key variables in your project. Your graphs must be related to the problem of interest and the key outcome(s). Make sure you include **numerical and/or graphical summaries** of each of your variables. Generally, it might be helpful to use this section to explore the **relationship between your outcome variable and your other variables.**\n",
    "\n",
    "### Prediction\n",
    "\n",
    "You must include at least one **prediction** component in your final project. This can be in the form of a **linear regression** or **classification** analysis. Make sure you use the appropriate method for the variable you are studying! You may need to do some data cleaning in order to get it in a state that you can use.\n",
    "\n",
    "Some examples of prediction analyses are:\n",
    "- Predicting whether a baby has low birthweight or not using various characteristics about the birth.\n",
    "- Using a linear regression to predict grades and interpreting what various parts of the equation mean, and the implications of these.\n",
    "\n",
    "### Conclusion\n",
    "\n",
    "You must make some sort of proposal for a **plan of action**. This should be directly related to the problem you described at the very beginning. Some conclusions might look like:\n",
    "- We should ban smoking for pregnant mothers.\n",
    "- We should focus on helping students get more hours of tutoring.\n",
    "\n",
    "\n",
    "## Some Notes\n",
    "\n",
    "When formulating your research question, think about how it might be used. **You need to have a policy/action that you suggest at the end.** That is, a prediction model is useless if you have no way of using it."
   ]
  },
  {
   "cell_type": "markdown",
   "metadata": {},
   "source": [
    "## Variables and Questions\n",
    "\n",
    "- **Gender**: What gender do you identify with?\n",
    "- **Age**: What is your age?\n",
    "- **Race**: What is your race? (white, black, latino, asian, other)\n",
    "- **Education**: What is your highest level of education? (High school or less, Some college, College degree, Graduate degree)\n",
    "- **Political Affiliation**:  In politics today, do you consider yourself a Democrat, a Republican, or Independent?\n",
    "- **Political Leaning**: Would you say you are liberal, conservative, or moderate?\n",
    "- **Trump**: Do you approve, disapprove, or neither approve nor disapprove of how Donald Trump is handling his job as president? (for \"approve\" or \"disapprove,\" probe: strongly or somewhat?)\n",
    "- **Finances**: How often do you worry about your financial situation? (very often, somewhat often, or not very often)\n",
    "- **Fair Elections**:  Going into the 2018 midterm elections, are you confident that votes nationwide will be counted fairly?\n",
    "- **Ranked Choice**: Would you support a voting system in which people could choose their first choice candidate, their second choice candidate, their third choice candidate, and so on?\n",
    "- **Woman President**: If you had to guess, do you think America will elect a woman president in the next 25 years?\n",
    "- **Universal Healthcare**: Do you think Americans will have universal, guaranteed healthcare in the next 25 years?\n",
    "- **Humanity**:  If you had to guess, do you think humanity will survive the next hundred years?\n",
    "- **America**: What about America? Do you think America will survive the next hundred years?\n",
    "- **Trump Reelection**: How likely is it that Donald Trump will be re-elected in 2020? (Very likely, somewhat likely, not at all likely)\n",
    "- **Trump Nuke**: How likely is it that Donald Trump will use a nuclear weapon during his time in office? (very likely, somewhat likely, not at all likely)\n",
    "- **War Russia**: If you had to guess, do you think America will go to war with Russia in the next 50 years?\n",
    "- **War China**: And if you had to guess, do you think America will go to war with China in the next 50 years?\n",
    "- **Next Generation**: Do you think your generation will leave behind a better world for the next generation, or a worse world?"
   ]
  },
  {
   "cell_type": "code",
   "execution_count": null,
   "metadata": {},
   "outputs": [],
   "source": []
  }
 ],
 "metadata": {
  "kernelspec": {
   "display_name": "Python 3",
   "language": "python",
   "name": "python3"
  },
  "language_info": {
   "codemirror_mode": {
    "name": "ipython",
    "version": 3
   },
   "file_extension": ".py",
   "mimetype": "text/x-python",
   "name": "python",
   "nbconvert_exporter": "python",
   "pygments_lexer": "ipython3",
   "version": "3.8.5"
  },
  "toc": {
   "base_numbering": 1,
   "nav_menu": {},
   "number_sections": true,
   "sideBar": true,
   "skip_h1_title": false,
   "title_cell": "Table of Contents",
   "title_sidebar": "Contents",
   "toc_cell": false,
   "toc_position": {},
   "toc_section_display": true,
   "toc_window_display": false
  }
 },
 "nbformat": 4,
 "nbformat_minor": 4
}
