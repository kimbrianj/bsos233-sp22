{
 "cells": [
  {
   "cell_type": "markdown",
   "metadata": {},
   "source": [
    "# Assignment 4: Regression and Classification\n",
    "\n",
    "This assignment covers **Chapters 15-17** from the textbook as well as lecture material from Weeks 10-13. Please complete this assignment by providing answers in cells after the question. Use **Code** cells to write and run any code you need to answer the question and **Markdown** cells to write out answers in words. After you are finished with the assignment, remember to download it as an **HTML file** and submit it in **ELMS**.\n",
    "\n",
    "This assignment is due by **11:59pm on Tuesday, May 10**. "
   ]
  },
  {
   "cell_type": "code",
   "execution_count": null,
   "metadata": {},
   "outputs": [],
   "source": [
    "import numpy as np\n",
    "from datascience import *\n",
    "\n",
    "# These lines do some fancy plotting magic.\n",
    "import matplotlib\n",
    "%matplotlib inline\n",
    "import matplotlib.pyplot as plt\n",
    "\n",
    "from sklearn.linear_model import LinearRegression\n",
    "from sklearn.linear_model import LogisticRegression\n",
    "from sklearn.tree import DecisionTreeClassifier\n",
    "from sklearn.neighbors import KNeighborsClassifier\n",
    "\n",
    "from sklearn.metrics import confusion_matrix\n",
    "from sklearn.metrics import precision_score, recall_score\n",
    "from sklearn.model_selection import cross_validate"
   ]
  },
  {
   "cell_type": "markdown",
   "metadata": {},
   "source": [
    "### Question 1. Linear Regression\n",
    "\n",
    "In this question, we will use linear regression to predict a person's income using their age and number of books read using the Pulse of the Nation dataset. We'll start by taking only the variables we are interested in using."
   ]
  },
  {
   "cell_type": "code",
   "execution_count": null,
   "metadata": {},
   "outputs": [],
   "source": [
    "cah = Table.read_table('201709-CAH_PulseOfTheNation.csv').select('Income', 'Age', 'How many books, if any, have you read in the past year?')\n",
    "cah = cah.relabeled('How many books, if any, have you read in the past year?', 'num_books')"
   ]
  },
  {
   "cell_type": "code",
   "execution_count": null,
   "metadata": {},
   "outputs": [],
   "source": [
    "cah.show(3)"
   ]
  },
  {
   "cell_type": "markdown",
   "metadata": {},
   "source": [
    "**a)** Create a scatterplot of `Age` and `Income`. Do the same with `num_books` and `Income`. Make sure `Income` is on the y-axis for both of these. How would you describe the relationships?"
   ]
  },
  {
   "cell_type": "markdown",
   "metadata": {},
   "source": [
    "**b)** Fit a linear regression model to predict `Income` using `Age` and `Income`. Write out the equation of the line. "
   ]
  },
  {
   "cell_type": "markdown",
   "metadata": {},
   "source": [
    "**c)** Assuming that the original model with both age and number of books read is appropriate, what would be the predicted income of a person who is 40 years old and read 5 books in the past year? "
   ]
  },
  {
   "cell_type": "markdown",
   "metadata": {},
   "source": [
    "**d)** Do you think that a linear regression model is appropriate? Use the scatterplots from part a as well as a residual plot to answer this question.\n",
    "\n",
    "*Hint: See Lab 9 for how to draw residual plots. You can use either of the predictor variables for the x-axis of the residual plot. The y-axis values should be the same for both (the actual income minus the predicted income).*"
   ]
  },
  {
   "cell_type": "markdown",
   "metadata": {},
   "source": [
    "**e)** Find a bootstrap 95% confidence interval for the `num_books` coefficient. Based on this confidence interval, does there seem to be a relationship between the number of books read and income?\n",
    "\n",
    "*Hint: See Lab 10 for how to do this.*"
   ]
  },
  {
   "cell_type": "markdown",
   "metadata": {},
   "source": [
    "### Question 2. Predicting Baby Low Birthweight Status\n",
    "\n",
    "In this question, we will use machine learning to try to predict whether a baby will have low birthweight status. To do this, we will use the `ncbirths` dataset."
   ]
  },
  {
   "cell_type": "code",
   "execution_count": null,
   "metadata": {},
   "outputs": [],
   "source": [
    "ncbirths = Table.read_table('ncbirths.csv')"
   ]
  },
  {
   "cell_type": "code",
   "execution_count": null,
   "metadata": {},
   "outputs": [],
   "source": [
    "ncbirths.show(3)"
   ]
  },
  {
   "cell_type": "markdown",
   "metadata": {},
   "source": [
    "We will try to use all of the variables provided in this dataset (besides `weight`) to try to predict the outcome, `lowbirthweight`."
   ]
  },
  {
   "cell_type": "markdown",
   "metadata": {},
   "source": [
    "**a)** Create two Tables, one called `test` and one called `train`. The `test` table should contain a random 20% of the data, while the `train` Table should contain the other 80%."
   ]
  },
  {
   "cell_type": "markdown",
   "metadata": {},
   "source": [
    "**b)** Using just the `train` Table, create an array called `label` that contains the outcome variable, where `label` is `True` if the baby was low birthweight and `False` otherwise. Then, create a Table called `features` that contains all other variables besides `weight`. Remember to transform all categorical variables in \"dummy\" variables (that is, 0/1 or True/False variables). \n",
    "\n",
    "**Hint:** We did some of this already in Lab 10. "
   ]
  },
  {
   "cell_type": "markdown",
   "metadata": {},
   "source": [
    "**c)** Fit three models with the `features` and `label`: Decision Tree, Logistic Regression, and K-Nearest Neighbors."
   ]
  },
  {
   "cell_type": "markdown",
   "metadata": {},
   "source": [
    "**d)** Using `predict_proba`, get predicted scores for the test set using each model. Using a threshold score of 0.5, find predictions for the test set using each of the three models.\n",
    "\n",
    "**Hint:** Take this step by step. First, get predicted scores for each model as an array. Then, find predictions using the threshold."
   ]
  },
  {
   "cell_type": "markdown",
   "metadata": {},
   "source": [
    "**e)** Suppose researchers are trying to predict low birthweight babies so that they can be better prepared for providing aid. Based on this information, which do you think would be more important to use as the performance metric: **precision** or **recall**?"
   ]
  },
  {
   "cell_type": "markdown",
   "metadata": {},
   "source": [
    "**f)** Determine the best model and best threshold by looping through threshold values and calculating precision and recall for each. "
   ]
  }
 ],
 "metadata": {
  "kernelspec": {
   "display_name": "Python 3",
   "language": "python",
   "name": "python3"
  },
  "language_info": {
   "codemirror_mode": {
    "name": "ipython",
    "version": 3
   },
   "file_extension": ".py",
   "mimetype": "text/x-python",
   "name": "python",
   "nbconvert_exporter": "python",
   "pygments_lexer": "ipython3",
   "version": "3.8.5"
  }
 },
 "nbformat": 4,
 "nbformat_minor": 4
}
